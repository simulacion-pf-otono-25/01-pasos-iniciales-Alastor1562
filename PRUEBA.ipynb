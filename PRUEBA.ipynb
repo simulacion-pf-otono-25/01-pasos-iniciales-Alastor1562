{
 "cells": [
  {
   "cell_type": "code",
   "execution_count": null,
   "id": "03466416",
   "metadata": {},
   "outputs": [],
   "source": [
    "print('HELLO SAM')"
   ]
  }
 ],
 "metadata": {
  "language_info": {
   "name": "python"
  }
 },
 "nbformat": 4,
 "nbformat_minor": 5
}
